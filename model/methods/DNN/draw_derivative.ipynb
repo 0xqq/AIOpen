{
 "cells": [
  {
   "cell_type": "code",
   "execution_count": 8,
   "metadata": {
    "collapsed": false
   },
   "outputs": [
    {
     "data": {
      "image/png": "[encoded data removed]",
      "text/plain": [
       "<matplotlib.figure.Figure at 0x1192b9510>"
      ]
     },
     "metadata": {},
     "output_type": "display_data"
    }
   ],
   "source": [
    "# %load draw_derivative.py\n",
    "#!/usr/bin/env python2\n",
    "\"\"\"\n",
    "Created on Tue Nov  7 03:35:37 2017\n",
    "\n",
    "@author: tjian\n",
    "\"\"\"\n",
    "import numpy as np\n",
    "import matplotlib.pyplot as plt\n",
    "\n",
    "# 在任意点的导数，画切线\n",
    "def derivative(point):\n",
    "    dx = np.arange(-1.5, 1.5, 0.1)\n",
    "    dy = 2*point\n",
    "    return [dx+point, dy*dx + point**2]\n",
    "\n",
    "x = np.arange(-6,6,0.1)\n",
    "y = x**2\n",
    "\n",
    "x1, y1 = derivative(1)\n",
    "plt.plot(x,y)\n",
    "plt.plot(x1,y1, linewidth=3,linestyle='dashed')\n",
    "plt.show()"
   ]
  },
  {
   "cell_type": "markdown",
   "metadata": {},
   "source": [
    "以下是画sigmoid函数\n",
    "\n",
    "定义sigmoid函数：\n",
    "> $$ \\sigma{(x)} = \\frac{1}{1+e^{-x}}$$"
   ]
  },
  {
   "cell_type": "code",
   "execution_count": 10,
   "metadata": {
    "collapsed": false
   },
   "outputs": [],
   "source": [
    "def sigmoid(x):\n",
    "    return 1/(1+np.exp(-x))"
   ]
  },
  {
   "cell_type": "markdown",
   "metadata": {},
   "source": [
    "定义sigmoid的导数：\n",
    "> $$ \\sigma^{'}(x) = \\frac{\\partial{\\sigma}}{\\partial{x}} = \\sigma{(x)}*(1 - \\sigma{(x)})$$"
   ]
  },
  {
   "cell_type": "code",
   "execution_count": 19,
   "metadata": {
    "collapsed": true
   },
   "outputs": [],
   "source": [
    "def sigmoid_derivative(x):\n",
    "    y = 1/(1+np.exp(-x))\n",
    "    return y*(1-y)"
   ]
  },
  {
   "cell_type": "markdown",
   "metadata": {},
   "source": [
    "定义画sigmoid上某一点的切线函数：\n",
    "> 当已知斜率k和一点坐标$(x_1,y_1)$时，常用点斜式：$$ y - y_1 = k*(x - x_1)$$ \n",
    "> 当已知斜率k和y轴截率b时，常用斜截式：$$y = k*x + b$$\n",
    "> 当已知两点坐标$(x_1,y_1)$和$(x_2,y_2)时，常用两点式：$$$\\frac{x - x_1}{x_2 - x_1}=\\frac{y - y_1}{y_2 - y_1}$$\n",
    "\n",
    "> 当已知所有截率a和b时，常用截距式：$$\\frac{x}{a}+\\frac{y}{b}=1$$\n",
    "> 矩阵：$X^m_n$ 是一个m*n矩阵，其中m=行（row）， n=列（column）\n",
    "\n",
    "> $\\nabla{L}$   $\\widehat{y}$  $\\frac{\\partial{x}}{\\partial{y}}$   $\\sigma{(x)}$"
   ]
  },
  {
   "cell_type": "code",
   "execution_count": 32,
   "metadata": {
    "collapsed": true
   },
   "outputs": [],
   "source": [
    "def draw_sigmoid_derivative(point):\n",
    "    dx = np.arange(-1.0,1.0,0.1)\n",
    "    dy = sigmoid_derivative(point) # 某点导数就是过这点的切线斜率\n",
    "    tangent_line = dy*dx + sigmoid(point)# 切线公式 y = k*x + b 其中：k是斜率，b是截率    \n",
    "    return [point + dx, tangent_line]"
   ]
  },
  {
   "cell_type": "markdown",
   "metadata": {},
   "source": [
    "画在sigmoid x = 2, 0, -2 处的切线："
   ]
  },
  {
   "cell_type": "code",
   "execution_count": 34,
   "metadata": {
    "collapsed": false
   },
   "outputs": [
    {
     "data": {
      "image/png": "[encoded data removed]",
      "text/plain": [
       "<matplotlib.figure.Figure at 0x119ca1850>"
      ]
     },
     "metadata": {},
     "output_type": "display_data"
    }
   ],
   "source": [
    "x1, y1 = draw_sigmoid_derivative(2)\n",
    "y = sigmoid(x)\n",
    "plt.plot(x, y)\n",
    "plt.plot(x1,y1)\n",
    "x2, y2 = draw_sigmoid_derivative(0)\n",
    "plt.plot(x2,y2,'g')\n",
    "x3, y3 = draw_sigmoid_derivative(-2)\n",
    "plt.plot(x3,y3,'y')\n",
    "plt.grid()\n",
    "plt.show()"
   ]
  },
  {
   "cell_type": "code",
   "execution_count": null,
   "metadata": {
    "collapsed": true
   },
   "outputs": [],
   "source": []
  },
  {
   "cell_type": "code",
   "execution_count": null,
   "metadata": {
    "collapsed": true
   },
   "outputs": [],
   "source": []
  }
 ],
 "metadata": {
  "kernelspec": {
   "display_name": "Python 2",
   "language": "python",
   "name": "python2"
  },
  "language_info": {
   "codemirror_mode": {
    "name": "ipython",
    "version": 2
   },
   "file_extension": ".py",
   "mimetype": "text/x-python",
   "name": "python",
   "nbconvert_exporter": "python",
   "pygments_lexer": "ipython2",
   "version": "2.7.13"
  }
 },
 "nbformat": 4,
 "nbformat_minor": 2
}
