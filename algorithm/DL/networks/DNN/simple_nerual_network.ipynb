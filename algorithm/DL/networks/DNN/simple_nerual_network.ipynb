{
 "cells": [
  {
   "cell_type": "code",
   "execution_count": 14,
   "metadata": {
    "collapsed": false
   },
   "outputs": [],
   "source": [
    "# %load simple_nerual_network.py\n",
    "#!/usr/bin/env python2\n",
    "\"\"\"\n",
    "Created on Tue Nov 14 12:19:13 2017\n",
    "\n",
    "@author: tjian\n",
    "\"\"\"\n",
    "%matplotlib inline\n",
    "import numpy as np\n",
    "import matplotlib.pyplot as plt"
   ]
  },
  {
   "cell_type": "markdown",
   "metadata": {},
   "source": [
    "X 输入：\n",
    "$\n",
    "        \\begin{bmatrix}\n",
    "        0 & 0 & 1 \\\\\n",
    "        1 & 1 & 1 \\\\\n",
    "        1 & 0 & 1 \\\\\n",
    "        0 & 1 & 1 \\\\\n",
    "        \\end{bmatrix}\n",
    "$\n",
    "  Y 输出：\n",
    "$\n",
    "        \\begin{bmatrix}\n",
    "        0  \\\\\n",
    "        1  \\\\\n",
    "        1  \\\\\n",
    "        0  \\\\\n",
    "        \\end{bmatrix}\n",
    "$\n",
    "\n"
   ]
  },
  {
   "cell_type": "code",
   "execution_count": 15,
   "metadata": {
    "collapsed": false
   },
   "outputs": [
    {
     "name": "stdout",
     "output_type": "stream",
     "text": [
      "[[0 0 1]\n",
      " [1 1 1]\n",
      " [1 0 1]\n",
      " [0 1 1]] (4, 3)\n"
     ]
    },
    {
     "data": {
      "text/plain": [
       "(array([[0],\n",
       "        [1],\n",
       "        [1],\n",
       "        [0]]), (4, 1))"
      ]
     },
     "execution_count": 15,
     "metadata": {},
     "output_type": "execute_result"
    }
   ],
   "source": [
    "# 读入 x 和 y\n",
    "x1 = np.array([0,0,1])\n",
    "x2 = np.array([1,1,1])\n",
    "x3 = np.array([1,0,1])\n",
    "x4 = np.array([0,1,1])\n",
    "X = np.array([x1,x2,x3,x4])\n",
    "Y = np.array([[0,1,1,0]])\n",
    "Y = Y.T\n",
    "print X,X.shape;Y,Y.shape"
   ]
  },
  {
   "cell_type": "markdown",
   "metadata": {},
   "source": [
    "X 转置：\n",
    "$\n",
    "        \\begin{bmatrix}\n",
    "        0 & 1 & 1 & 0\\\\\n",
    "        0 & 1 & 0 & 1\\\\\n",
    "        1 & 1 & 1 & 1\\\\\n",
    "        \\end{bmatrix}\n",
    "$"
   ]
  },
  {
   "cell_type": "code",
   "execution_count": 16,
   "metadata": {
    "collapsed": false
   },
   "outputs": [
    {
     "name": "stdout",
     "output_type": "stream",
     "text": [
      "[[0 1 1 0]\n",
      " [0 1 0 1]\n",
      " [1 1 1 1]] (3, 4)\n"
     ]
    }
   ],
   "source": [
    "\n",
    "# X转置\n",
    "X1t = X.T\n",
    "print X1t,X1t.shape"
   ]
  },
  {
   "cell_type": "code",
   "execution_count": 17,
   "metadata": {
    "collapsed": false
   },
   "outputs": [
    {
     "name": "stdout",
     "output_type": "stream",
     "text": [
      "[[-0.81047546]\n",
      " [ 0.28539929]\n",
      " [-0.20297838]] (3, 1)\n"
     ]
    }
   ],
   "source": [
    "# 随机weight \n",
    "W = 2*np.random.rand(3,1) - 1\n",
    "print W, W.shape"
   ]
  },
  {
   "cell_type": "markdown",
   "metadata": {},
   "source": [
    "P是输出 $ P = \\sigma{(X{\\oplus}W)}$ 其中：$\\oplus$是点乘（dot），$\\star$是相乘"
   ]
  },
  {
   "cell_type": "code",
   "execution_count": null,
   "metadata": {
    "collapsed": true
   },
   "outputs": [],
   "source": [
    "def _sigmoid(x):\n",
    "    return 1/(1+np.exp(-x))"
   ]
  },
  {
   "cell_type": "code",
   "execution_count": 18,
   "metadata": {
    "collapsed": true
   },
   "outputs": [],
   "source": [
    " \n",
    "#P = 1/(1+np.exp(-X.dot(W)))\n",
    "P = _sigmoid(X.dot(W))"
   ]
  },
  {
   "cell_type": "markdown",
   "metadata": {},
   "source": [
    "> $sigmoid函数：\\sigma(z)=\\frac{1}{1 + e^{-z}}$\n",
    "\n",
    "> 损失函数（方差）：$L(w)=\\frac{(Y-P)^2}{2}=\\frac{(Y - \\sigma{(X*W)})^2}{2} = \\frac{(Y - \\sigma{(z)})^2}{2}, 其中：z=X{\\otimes}W$\n",
    "\n",
    "> $w_1 \\leftarrow w_0-\\eta\\frac{\\partial{L}}{\\partial{w}}$\n",
    "\n",
    "> $w_2 \\leftarrow w_1-\\eta\\frac{\\partial{L}}{\\partial{w}}$\n",
    "\n",
    "> $ \\frac{\\partial{L}}{\\partial{w}} = {(\\frac {(Y - \\sigma{(z)})^2}{2})}{'} $\n",
    "\n",
    "> $ \\bigl((Y - \\sigma(z))^2\\bigr){'} = \\biggl(\\bigl(Y^2 - 2*Y*{\\sigma}(z) + {\\sigma}^2(z)\\bigr)\\biggr){'}\n",
    "  = 0 - \\bigl(2*Y*{\\sigma}(z)\\bigr){'} + \\bigl({\\sigma}^2(z)\\bigr){'}\n",
    "  = -\\bigl(2*Y*{\\sigma}(z)\\bigr){'} + \\bigl({\\sigma}^2(z)\\bigr){'} \\space\\space (1-1)$\n",
    "  \n",
    "> 根据链式法则：$ \\biggl(f\\bigl(g(x)\\bigr)\\biggr){'} = f{'}\\bigl(g(x)\\bigr)*g{'}(x)$\n",
    "  \n",
    "> $ \\bigl(\\sigma(z)\\bigr){'} = \\sigma{'}(z)\\star z{'} \\space \\space 其中：z = X{\\star}W \\space \\space \\frac{{\\partial}z}{{\\partial}w} = X \\space \\space 所以： \\sigma{'}(z)\\star z{'} = \\sigma{'}(z)\\star X$\n",
    "\n",
    "> $ \\bigl({\\sigma}^2(z)\\bigr){'} = \\bigl(\\sigma(z)\\star\\sigma(z)\\bigr) \\space\\space 因为：\\bigl(u(x)\\star v(x)\\bigr){'}   = u{'}(x)*v(x) + u(x)*v{'}(x) \\space\\space 所以：\\bigl({\\sigma}^2(z)\\bigr){'} = 2*X*\\sigma{'}(z)*\\sigma(z)$\n",
    "\n",
    "> $(1-1)式 \\to -2\\star Y\\star X\\star\\sigma{'}(z) + 2\\star X\\star\\sigma{'}(z)\\star\\sigma(z) = \n",
    "  -2\\star X\\star\\sigma{'}(z)\\star \\bigl(Y - \\sigma(z)\\bigr)$\n",
    "  \n",
    "> $ \\frac{\\partial{L}}{\\partial{w}} = {(\\frac {(Y - \\sigma{(z)})^2}{2})}{'} = \\frac{-2\\star X\\star\\sigma{'}(z)\\star \\bigl(Y - \\sigma(z)\\bigr)}{2} = -X\\star\\sigma{'}(z)\\star \\bigl(Y - \\sigma(z)\\bigr) $\n",
    "\n",
    "> $w_1 \\leftarrow w_0-\\eta\\frac{\\partial{L}}{\\partial{w}} \\leftarrow\\rightarrow  w_1 \\leftarrow w_0+\\eta \\star X\\star\\sigma{'}(z)\\star \\bigl(Y - \\sigma(z)\\bigr)$\n",
    "\n",
    "> $w_2 \\leftarrow w_1-\\eta\\frac{\\partial{L}}{\\partial{w}} \\leftarrow\\rightarrow  w_2 \\leftarrow w_1+\\eta \\star X\\star\\sigma{'}(z)\\star \\bigl(Y - \\sigma(z)\\bigr)$\n",
    "\n",
    "> $特别地：令：\\eta=1  \\space\\space 所以：W = W + X\\star\\sigma{'}(z)\\star \\bigl(Y - \\sigma(z)\\bigr)$\n",
    "\n",
    "> $\\sigma{'}(z) = \\sigma(z)*(1 - \\sigma(z)) $\n",
    "\n",
    "> $下式中：P = \\sigma(z) \\space\\space而：z=X\\otimes W $\n",
    " \n",
    "> $d(A*x)/dx=A$            \n",
    "$d(x^T*A)/dx^T=A$   \n",
    "$d(x^T*A)/dx=A^T$    \n",
    "$d(x^T*A*x)/dx=x^T(A^T+A)$\n",
    "\n",
    "> https://en.wikipedia.org/wiki/Matrix_calculus#Vector-by-scalar\n",
    "\n",
    "\n",
    "x is a column vector, A is a matrix\n",
    "\n",
    "$d(A*x)/dx=A$            \n",
    "\n",
    "$d(x^T*A)/dx^T=A$   \n",
    "\n",
    "$d(x^T*A)/dx=A^T$    \n",
    "\n",
    "$d(x^T*A*x)/dx=x^T(A^T+A)$"
   ]
  },
  {
   "cell_type": "code",
   "execution_count": 19,
   "metadata": {
    "collapsed": true
   },
   "outputs": [],
   "source": [
    "W += X1t.dot(P*(1-P)*(Y-P))"
   ]
  },
  {
   "cell_type": "code",
   "execution_count": 20,
   "metadata": {
    "collapsed": true
   },
   "outputs": [],
   "source": [
    "lost = []"
   ]
  },
  {
   "cell_type": "code",
   "execution_count": 21,
   "metadata": {
    "collapsed": true
   },
   "outputs": [],
   "source": [
    "for i in range(1000):\n",
    "    P = 1/(1 + np.exp(-X.dot(W)))\n",
    "    W += X1t.dot(P*(1-P)*(Y-P))\n",
    "    L = (Y - P)**2/2\n",
    "    lost.append(L.sum())"
   ]
  },
  {
   "cell_type": "code",
   "execution_count": 22,
   "metadata": {
    "collapsed": false
   },
   "outputs": [
    {
     "data": {
      "image/png": "[encoded data removed]",
      "text/plain": [
       "<matplotlib.figure.Figure at 0x10bb0cc50>"
      ]
     },
     "metadata": {},
     "output_type": "display_data"
    }
   ],
   "source": [
    "# 画出lost\n",
    "plt.plot(range(1000),lost)\n",
    "plt.grid()"
   ]
  },
  {
   "cell_type": "code",
   "execution_count": 23,
   "metadata": {
    "collapsed": false
   },
   "outputs": [
    {
     "data": {
      "text/plain": [
       "array([[ 0.00050918],\n",
       "       [ 0.00033641],\n",
       "       [ 0.00021892],\n",
       "       [ 0.00033213]])"
      ]
     },
     "execution_count": 23,
     "metadata": {},
     "output_type": "execute_result"
    }
   ],
   "source": [
    "L"
   ]
  },
  {
   "cell_type": "code",
   "execution_count": 26,
   "metadata": {
    "collapsed": false
   },
   "outputs": [],
   "source": [
    "X_pre = np.array([1,0,0])"
   ]
  },
  {
   "cell_type": "code",
   "execution_count": 29,
   "metadata": {
    "collapsed": false
   },
   "outputs": [
    {
     "data": {
      "text/plain": [
       "array([ 0.99929677])"
      ]
     },
     "execution_count": 29,
     "metadata": {},
     "output_type": "execute_result"
    }
   ],
   "source": [
    "1/(1+np.exp(-X_pre.dot(W)))"
   ]
  }
 ],
 "metadata": {
  "kernelspec": {
   "display_name": "Python 2",
   "language": "python",
   "name": "python2"
  },
  "language_info": {
   "codemirror_mode": {
    "name": "ipython",
    "version": 2
   },
   "file_extension": ".py",
   "mimetype": "text/x-python",
   "name": "python",
   "nbconvert_exporter": "python",
   "pygments_lexer": "ipython2",
   "version": "2.7.13"
  },
  "toc": {
   "nav_menu": {},
   "number_sections": true,
   "sideBar": true,
   "skip_h1_title": false,
   "title_cell": "Table of Contents",
   "title_sidebar": "Contents",
   "toc_cell": false,
   "toc_position": {
    "height": "calc(100% - 180px)",
    "left": "10px",
    "top": "150px",
    "width": "248px"
   },
   "toc_section_display": true,
   "toc_window_display": true
  }
 },
 "nbformat": 4,
 "nbformat_minor": 2
}
