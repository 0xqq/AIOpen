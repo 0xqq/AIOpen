{
 "cells": [
  {
   "cell_type": "markdown",
   "metadata": {},
   "source": [
    "# Tips\n",
    "\n",
    "### 1. 机器学习第一步是特征提取，语音领域也不例外。目前使用最多的是FBank（Filter banks）和MFCC，两者整体相似，MFCC多了一步DCT（离散余弦变换）。\n",
    "\n",
    "### 2. 目前，用的多得是Fbank，因为fbank的信息比MFCC丰富（因为DCT只提取了频谱的包络信息，而损失了大量的声音细节），MFCC多了一步DCT，某种程度上是对语音信息的损变，而且因为多了一步，计算量更大。\n",
    "\n",
    "### 3. FBank 适用于深度学习。因为，深度神经网络强大的特征提取能力使得我们只需要将信息更加丰富的Mel谱（或功率谱）信息直接送入神经网络进行训练，让神经网络提取更加鲁棒的特征。\n",
    "\n",
    "### 4. MFCC 配合 GMM，HMM 声学模型比较合适。"
   ]
  },
  {
   "cell_type": "code",
   "execution_count": null,
   "metadata": {},
   "outputs": [],
   "source": [
    "# 语谱图，滤波器组（Filter banks、MFCC）\n",
    "# https://www.jianshu.com/p/b416d5617b0c\n",
    "# 特征提取\n",
    "# https://blog.csdn.net/zzc15806/article/details/84974458\n",
    "# ASR中常用的语音特征之FBank和MFCC（原理 + Python实现）\n",
    "# https://blog.csdn.net/Magical_Bubble/article/details/90295814#FBankFilter_Banks_228\n",
    "# 语音识别的前世今生：GMM+HMM & 深度学习\n",
    "# http://makaidong.com/lyu0709/44493_689370_4.htm"
   ]
  }
 ],
 "metadata": {
  "kernelspec": {
   "display_name": "Python 3",
   "language": "python",
   "name": "python3"
  },
  "language_info": {
   "codemirror_mode": {
    "name": "ipython",
    "version": 3
   },
   "file_extension": ".py",
   "mimetype": "text/x-python",
   "name": "python",
   "nbconvert_exporter": "python",
   "pygments_lexer": "ipython3",
   "version": "3.6.8"
  },
  "varInspector": {
   "cols": {
    "lenName": 16,
    "lenType": 16,
    "lenVar": 40
   },
   "kernels_config": {
    "python": {
     "delete_cmd_postfix": "",
     "delete_cmd_prefix": "del ",
     "library": "var_list.py",
     "varRefreshCmd": "print(var_dic_list())"
    },
    "r": {
     "delete_cmd_postfix": ") ",
     "delete_cmd_prefix": "rm(",
     "library": "var_list.r",
     "varRefreshCmd": "cat(var_dic_list()) "
    }
   },
   "types_to_exclude": [
    "module",
    "function",
    "builtin_function_or_method",
    "instance",
    "_Feature"
   ],
   "window_display": false
  }
 },
 "nbformat": 4,
 "nbformat_minor": 2
}
