{
 "cells": [
  {
   "cell_type": "markdown",
   "metadata": {
    "slideshow": {
     "slide_type": "slide"
    }
   },
   "source": [
    "\n",
    "# Librosa tutorial\n",
    "\n",
    "- Version: 0.6.3\n",
    "- Tutorial home: https://github.com/librosa/tutorial\n",
    "- Librosa home: http://librosa.github.io/\n",
    "- User forum: https://groups.google.com/forum/#!forum/librosa"
   ]
  },
  {
   "cell_type": "markdown",
   "metadata": {
    "slideshow": {
     "slide_type": "slide"
    }
   },
   "source": [
    "## 环境\n",
    "\n",
    "假设已经安装了 [Anaconda](https://anaconda.org/).\n",
    "\n",
    "如果没有环境，使用下面命令创建一个：\n",
    "\n",
    "```bash\n",
    "conda create --name YOURNAME scipy jupyter ipython\n",
    "```\n",
    "(使用 `YOURNAME` 来代替新的环境名)"
   ]
  },
  {
   "cell_type": "markdown",
   "metadata": {
    "slideshow": {
     "slide_type": "subslide"
    }
   },
   "source": [
    "然后使用下面命令来激活新的环境：\n",
    "```bash\n",
    "source activate YOURNAME\n",
    "```\n"
   ]
  },
  {
   "cell_type": "markdown",
   "metadata": {
    "slideshow": {
     "slide_type": "fragment"
    }
   },
   "source": [
    "## 安装 librosa\n",
    "Librosa 使用下面命令进行安装 [🔗]:\n",
    "\n",
    "```bash\n",
    "conda install -c conda-forge librosa\n",
    "```\n",
    "\n",
    "注意：Windows 需要单独安装音频解码库，这里推荐使用 [ffmpeg](http://ffmpeg.org/)."
   ]
  },
  {
   "cell_type": "markdown",
   "metadata": {
    "collapsed": true,
    "slideshow": {
     "slide_type": "subslide"
    }
   },
   "source": [
    "## 测试"
   ]
  },
  {
   "cell_type": "markdown",
   "metadata": {
    "slideshow": {
     "slide_type": "-"
    }
   },
   "source": [
    "开始 Jupyter:\n",
    "```bash\n",
    "jupyter notebook\n",
    "```\n",
    "然后打开一个notebook，执行下面命令："
   ]
  },
  {
   "cell_type": "code",
   "execution_count": 4,
   "metadata": {
    "collapsed": false,
    "slideshow": {
     "slide_type": "-"
    }
   },
   "outputs": [
    {
     "name": "stdout",
     "output_type": "stream",
     "text": [
      "0.6.3\n"
     ]
    }
   ],
   "source": [
    "import librosa\n",
    "print(librosa.__version__)"
   ]
  },
  {
   "cell_type": "code",
   "execution_count": 5,
   "metadata": {
    "collapsed": false,
    "scrolled": true,
    "slideshow": {
     "slide_type": "fragment"
    }
   },
   "outputs": [
    {
     "name": "stdout",
     "output_type": "stream",
     "text": [
      "(1355168, 22050)\n"
     ]
    }
   ],
   "source": [
    "y, sr = librosa.load(librosa.util.example_audio_file())\n",
    "print(len(y), sr)"
   ]
  },
  {
   "cell_type": "markdown",
   "metadata": {},
   "source": [
    "### 注：上面的load的缺省sr=22050，如果需要原始的音频采样率sr=None"
   ]
  },
  {
   "cell_type": "markdown",
   "metadata": {
    "slideshow": {
     "slide_type": "slide"
    }
   },
   "source": [
    "# librosa文档!\n",
    "\n",
    "\n",
    "Librosa有大量的例子文档，请参阅：http://librosa.github.io/librosa/"
   ]
  },
  {
   "cell_type": "markdown",
   "metadata": {
    "slideshow": {
     "slide_type": "slide"
    }
   },
   "source": [
    "# 约定\n",
    "\n",
    "- 所有数据是基本的 `numpy` 类型\n",
    "- **Audio buffers**（音频数据缓存） 称为 `y`\n",
    "- **Sampling rate**（采样率）称为 `sr`\n",
    "- The last axis is time-like:\n",
    "        y[1000] 是第1001各样本\n",
    "        S[:, 100] 是第101的个S的帧\n",
    "- **Defaults** （缺省）`sr=22050`, `hop_length=512`"
   ]
  },
  {
   "cell_type": "markdown",
   "metadata": {
    "slideshow": {
     "slide_type": "slide"
    }
   },
   "source": [
    "# 今天要学习的内容\n",
    "\n",
    "- `librosa.core`\n",
    "- `librosa.feature`\n",
    "- `librosa.display`\n",
    "- `librosa.beat`\n",
    "- `librosa.segment`\n",
    "- `librosa.decompose`"
   ]
  },
  {
   "cell_type": "markdown",
   "metadata": {
    "slideshow": {
     "slide_type": "subslide"
    }
   },
   "source": [
    "# `librosa.core`\n",
    "\n",
    "- Low-level audio processes（底层的音频处理）\n",
    "- Unit conversion（单元转换）\n",
    "- Time-frequency representations（时间-频率变换）"
   ]
  },
  {
   "cell_type": "markdown",
   "metadata": {
    "slideshow": {
     "slide_type": "subslide"
    }
   },
   "source": [
    "\n",
    "使用原始采样率加载音频文件，使用 `sr=None`"
   ]
  },
  {
   "cell_type": "code",
   "execution_count": 6,
   "metadata": {
    "collapsed": false,
    "slideshow": {
     "slide_type": "-"
    }
   },
   "outputs": [
    {
     "name": "stdout",
     "output_type": "stream",
     "text": [
      "(2710336, 44100)\n"
     ]
    }
   ],
   "source": [
    "y_orig, sr_orig = librosa.load(librosa.util.example_audio_file(),\n",
    "                     sr=None)\n",
    "print(len(y_orig), sr_orig)"
   ]
  },
  {
   "cell_type": "markdown",
   "metadata": {
    "slideshow": {
     "slide_type": "fragment"
    }
   },
   "source": [
    "Resampling is easy（重新采样非常容易）"
   ]
  },
  {
   "cell_type": "code",
   "execution_count": 7,
   "metadata": {
    "collapsed": false,
    "slideshow": {
     "slide_type": "-"
    }
   },
   "outputs": [
    {
     "name": "stdout",
     "output_type": "stream",
     "text": [
      "(1355168, 22050)\n"
     ]
    }
   ],
   "source": [
    "sr = 22050\n",
    "\n",
    "y = librosa.resample(y_orig, sr_orig, sr)\n",
    "\n",
    "print(len(y), sr)"
   ]
  },
  {
   "cell_type": "markdown",
   "metadata": {
    "slideshow": {
     "slide_type": "fragment"
    }
   },
   "source": [
    "But what's that in seconds?（但是时间多长？）"
   ]
  },
  {
   "cell_type": "code",
   "execution_count": 8,
   "metadata": {
    "collapsed": false,
    "slideshow": {
     "slide_type": "-"
    }
   },
   "outputs": [
    {
     "name": "stdout",
     "output_type": "stream",
     "text": [
      "61.4588662132\n"
     ]
    }
   ],
   "source": [
    "print(librosa.samples_to_time(len(y), sr))"
   ]
  },
  {
   "cell_type": "markdown",
   "metadata": {
    "slideshow": {
     "slide_type": "subslide"
    }
   },
   "source": [
    "## 频谱表示\n",
    "\n",
    "短时傅立叶变换是信号处理的基础。\n",
    "\n",
    "`librosa.stft` 返回一个复数矩阵 `D`.\n",
    "\n",
    "`D[f, t]` 是：以频率 `f`, 时间（帧） `t` 的 FFT 值 ."
   ]
  },
  {
   "cell_type": "code",
   "execution_count": 9,
   "metadata": {
    "collapsed": false,
    "slideshow": {
     "slide_type": "fragment"
    }
   },
   "outputs": [
    {
     "name": "stdout",
     "output_type": "stream",
     "text": [
      "((1025, 2647), dtype('complex64'))\n"
     ]
    }
   ],
   "source": [
    "D = librosa.stft(y)\n",
    "print(D.shape, D.dtype)"
   ]
  },
  {
   "cell_type": "markdown",
   "metadata": {
    "slideshow": {
     "slide_type": "subslide"
    }
   },
   "source": [
    "Often, we only care about the magnitude.（通常，我们比较关心幅值）\n",
    "\n",
    "`D` 包含幅值 *magnitude* `S` 和相角 *phase* $\\phi$.\n",
    "\n",
    "$$\n",
    "D_{ft} = S_{ft} \\exp\\left(j \\phi_{ft}\\right)\n",
    "$$"
   ]
  },
  {
   "cell_type": "code",
   "execution_count": 10,
   "metadata": {
    "collapsed": true
   },
   "outputs": [],
   "source": [
    "import numpy as np"
   ]
  },
  {
   "cell_type": "code",
   "execution_count": 11,
   "metadata": {
    "collapsed": false
   },
   "outputs": [
    {
     "name": "stdout",
     "output_type": "stream",
     "text": [
      "(dtype('float32'), dtype('complex64'), True)\n"
     ]
    }
   ],
   "source": [
    "S, phase = librosa.magphase(D)\n",
    "print(S.dtype, phase.dtype, np.allclose(D, S * phase))"
   ]
  },
  {
   "cell_type": "markdown",
   "metadata": {
    "slideshow": {
     "slide_type": "subslide"
    }
   },
   "source": [
    "## Constant-Q transforms\n",
    "\n",
    "The CQT gives a logarithmically spaced frequency basis.\n",
    "\n",
    "This representation is more natural for many analysis tasks."
   ]
  },
  {
   "cell_type": "code",
   "execution_count": null,
   "metadata": {
    "collapsed": false
   },
   "outputs": [],
   "source": [
    "C = librosa.cqt(y, sr=sr)\n",
    "\n",
    "print(C.shape, C.dtype)"
   ]
  },
  {
   "cell_type": "markdown",
   "metadata": {
    "slideshow": {
     "slide_type": "subslide"
    }
   },
   "source": [
    "## Exercise 0\n",
    "\n",
    "- Load a different audio file\n",
    "- Compute its STFT with a different hop length"
   ]
  },
  {
   "cell_type": "code",
   "execution_count": null,
   "metadata": {
    "collapsed": true,
    "slideshow": {
     "slide_type": "subslide"
    }
   },
   "outputs": [],
   "source": [
    "# Exercise 0 solution\n",
    "\n",
    "y2, sr2 = librosa.load(   )\n",
    "\n",
    "D = librosa.stft(y2, hop_length=   )"
   ]
  },
  {
   "cell_type": "markdown",
   "metadata": {
    "slideshow": {
     "slide_type": "slide"
    }
   },
   "source": [
    "# `librosa.feature`\n",
    "\n",
    "- Standard features:\n",
    "    - `librosa.feature.melspectrogram`\n",
    "    - `librosa.feature.mfcc`\n",
    "    - `librosa.feature.chroma`\n",
    "    - Lots more...\n",
    "- Feature manipulation:\n",
    "    - `librosa.feature.stack_memory`\n",
    "    - `librosa.feature.delta`"
   ]
  },
  {
   "cell_type": "markdown",
   "metadata": {
    "slideshow": {
     "slide_type": "subslide"
    }
   },
   "source": [
    "Most features work either with audio or STFT input"
   ]
  },
  {
   "cell_type": "code",
   "execution_count": null,
   "metadata": {
    "collapsed": false
   },
   "outputs": [],
   "source": [
    "melspec = librosa.feature.melspectrogram(y=y, sr=sr)\n",
    "\n",
    "# Melspec assumes power, not energy as input\n",
    "melspec_stft = librosa.feature.melspectrogram(S=S**2, sr=sr)\n",
    "\n",
    "print(np.allclose(melspec, melspec_stft))"
   ]
  },
  {
   "cell_type": "markdown",
   "metadata": {
    "slideshow": {
     "slide_type": "slide"
    }
   },
   "source": [
    "# `librosa.display`\n",
    "\n",
    "- Plotting routines for spectra and waveforms\n",
    "\n",
    "- **Note**: major overhaul coming in 0.5"
   ]
  },
  {
   "cell_type": "code",
   "execution_count": null,
   "metadata": {
    "collapsed": true,
    "slideshow": {
     "slide_type": "subslide"
    }
   },
   "outputs": [],
   "source": [
    "# Displays are built with matplotlib \n",
    "import matplotlib.pyplot as plt\n",
    "\n",
    "# Let's make plots pretty\n",
    "import matplotlib.style as ms\n",
    "ms.use('seaborn-muted')\n",
    "\n",
    "# Render figures interactively in the notebook\n",
    "%matplotlib nbagg\n",
    "\n",
    "# IPython gives us an audio widget for playback\n",
    "from IPython.display import Audio"
   ]
  },
  {
   "cell_type": "markdown",
   "metadata": {
    "slideshow": {
     "slide_type": "subslide"
    }
   },
   "source": [
    "## Waveform display"
   ]
  },
  {
   "cell_type": "code",
   "execution_count": null,
   "metadata": {
    "collapsed": false,
    "slideshow": {
     "slide_type": "-"
    }
   },
   "outputs": [],
   "source": [
    "plt.figure()\n",
    "librosa.display.waveplot(y=y, sr=sr)"
   ]
  },
  {
   "cell_type": "markdown",
   "metadata": {
    "slideshow": {
     "slide_type": "subslide"
    }
   },
   "source": [
    "## A basic spectrogram display"
   ]
  },
  {
   "cell_type": "code",
   "execution_count": null,
   "metadata": {
    "collapsed": false
   },
   "outputs": [],
   "source": [
    "plt.figure()\n",
    "librosa.display.specshow(melspec, y_axis='mel', x_axis='time')\n",
    "plt.colorbar()"
   ]
  },
  {
   "cell_type": "markdown",
   "metadata": {
    "slideshow": {
     "slide_type": "subslide"
    }
   },
   "source": [
    "## Exercise 1\n",
    "\n",
    "* Pick a feature extractor from the `librosa.feature` submodule and plot the output with `librosa.display.specshow`\n",
    "\n",
    "\n",
    "* **Bonus**: Customize the plot using either `specshow` arguments or `pyplot` functions"
   ]
  },
  {
   "cell_type": "code",
   "execution_count": null,
   "metadata": {
    "collapsed": true,
    "slideshow": {
     "slide_type": "subslide"
    }
   },
   "outputs": [],
   "source": [
    "# Exercise 1 solution\n",
    "\n",
    "X = librosa.feature.XX()\n",
    "\n",
    "plt.figure()\n",
    "\n",
    "librosa.display.specshow(    )"
   ]
  },
  {
   "cell_type": "markdown",
   "metadata": {
    "slideshow": {
     "slide_type": "slide"
    }
   },
   "source": [
    "# `librosa.beat`\n",
    "\n",
    "- Beat tracking and tempo estimation"
   ]
  },
  {
   "cell_type": "markdown",
   "metadata": {
    "slideshow": {
     "slide_type": "subslide"
    }
   },
   "source": [
    "The beat tracker returns the estimated tempo and beat positions (measured in frames)"
   ]
  },
  {
   "cell_type": "code",
   "execution_count": null,
   "metadata": {
    "collapsed": false,
    "slideshow": {
     "slide_type": "fragment"
    }
   },
   "outputs": [],
   "source": [
    "tempo, beats = librosa.beat.beat_track(y=y, sr=sr)\n",
    "print(tempo)\n",
    "print(beats)"
   ]
  },
  {
   "cell_type": "markdown",
   "metadata": {
    "slideshow": {
     "slide_type": "fragment"
    }
   },
   "source": [
    "Let's sonify it!"
   ]
  },
  {
   "cell_type": "code",
   "execution_count": null,
   "metadata": {
    "collapsed": false,
    "slideshow": {
     "slide_type": "-"
    }
   },
   "outputs": [],
   "source": [
    "clicks = librosa.clicks(frames=beats, sr=sr, length=len(y))\n",
    "\n",
    "Audio(data=y + clicks, rate=sr)"
   ]
  },
  {
   "cell_type": "markdown",
   "metadata": {
    "slideshow": {
     "slide_type": "subslide"
    }
   },
   "source": [
    "Beats can be used to downsample features"
   ]
  },
  {
   "cell_type": "code",
   "execution_count": null,
   "metadata": {
    "collapsed": false
   },
   "outputs": [],
   "source": [
    "chroma = librosa.feature.chroma_cqt(y=y, sr=sr)\n",
    "chroma_sync = librosa.feature.sync(chroma, beats)"
   ]
  },
  {
   "cell_type": "code",
   "execution_count": null,
   "metadata": {
    "collapsed": false,
    "slideshow": {
     "slide_type": "fragment"
    }
   },
   "outputs": [],
   "source": [
    "plt.figure(figsize=(6, 3))\n",
    "plt.subplot(2, 1, 1)\n",
    "librosa.display.specshow(chroma, y_axis='chroma')\n",
    "plt.ylabel('Full resolution')\n",
    "plt.subplot(2, 1, 2)\n",
    "librosa.display.specshow(chroma_sync, y_axis='chroma')\n",
    "plt.ylabel('Beat sync')"
   ]
  },
  {
   "cell_type": "markdown",
   "metadata": {
    "slideshow": {
     "slide_type": "slide"
    }
   },
   "source": [
    "# `librosa.segment`\n",
    "\n",
    "- Self-similarity / recurrence\n",
    "- Segmentation"
   ]
  },
  {
   "cell_type": "markdown",
   "metadata": {
    "slideshow": {
     "slide_type": "subslide"
    }
   },
   "source": [
    "Recurrence matrices encode self-similarity\n",
    "\n",
    "    R[i, j] = similarity between frames (i, j)\n",
    "    \n",
    "Librosa computes recurrence between `k`-nearest neighbors."
   ]
  },
  {
   "cell_type": "code",
   "execution_count": null,
   "metadata": {
    "collapsed": true,
    "slideshow": {
     "slide_type": "-"
    }
   },
   "outputs": [],
   "source": [
    "R = librosa.segment.recurrence_matrix(chroma_sync)"
   ]
  },
  {
   "cell_type": "code",
   "execution_count": null,
   "metadata": {
    "collapsed": false,
    "slideshow": {
     "slide_type": "fragment"
    }
   },
   "outputs": [],
   "source": [
    "plt.figure(figsize=(4, 4))\n",
    "librosa.display.specshow(R)"
   ]
  },
  {
   "cell_type": "markdown",
   "metadata": {
    "slideshow": {
     "slide_type": "subslide"
    }
   },
   "source": [
    "We can include affinity weights for each link as well."
   ]
  },
  {
   "cell_type": "code",
   "execution_count": null,
   "metadata": {
    "collapsed": true,
    "slideshow": {
     "slide_type": "-"
    }
   },
   "outputs": [],
   "source": [
    "R2 = librosa.segment.recurrence_matrix(chroma_sync,\n",
    "                                       mode='affinity',\n",
    "                                       sym=True)"
   ]
  },
  {
   "cell_type": "code",
   "execution_count": null,
   "metadata": {
    "collapsed": false,
    "slideshow": {
     "slide_type": "fragment"
    }
   },
   "outputs": [],
   "source": [
    "plt.figure(figsize=(5, 4))\n",
    "librosa.display.specshow(R2)\n",
    "plt.colorbar()"
   ]
  },
  {
   "cell_type": "markdown",
   "metadata": {
    "slideshow": {
     "slide_type": "subslide"
    }
   },
   "source": [
    "## Exercise 2\n",
    "\n",
    "* Plot a recurrence matrix using different  features\n",
    "* **Bonus**: Use a custom distance metric"
   ]
  },
  {
   "cell_type": "code",
   "execution_count": null,
   "metadata": {
    "collapsed": true,
    "slideshow": {
     "slide_type": "subslide"
    }
   },
   "outputs": [],
   "source": [
    "# Exercise 2 solution"
   ]
  },
  {
   "cell_type": "markdown",
   "metadata": {
    "slideshow": {
     "slide_type": "slide"
    }
   },
   "source": [
    "# `librosa.decompose`\n",
    "\n",
    "- `hpss`: Harmonic-percussive source separation\n",
    "- `nn_filter`: Nearest-neighbor filtering, non-local means, Repet-SIM\n",
    "- `decompose`: NMF, PCA and friends"
   ]
  },
  {
   "cell_type": "markdown",
   "metadata": {
    "slideshow": {
     "slide_type": "subslide"
    }
   },
   "source": [
    "Separating harmonics from percussives is easy"
   ]
  },
  {
   "cell_type": "code",
   "execution_count": null,
   "metadata": {
    "collapsed": false
   },
   "outputs": [],
   "source": [
    "D_harm, D_perc = librosa.decompose.hpss(D)\n",
    "\n",
    "y_harm = librosa.istft(D_harm)\n",
    "\n",
    "y_perc = librosa.istft(D_perc)"
   ]
  },
  {
   "cell_type": "code",
   "execution_count": null,
   "metadata": {
    "collapsed": false,
    "slideshow": {
     "slide_type": "fragment"
    }
   },
   "outputs": [],
   "source": [
    "Audio(data=y_harm, rate=sr)"
   ]
  },
  {
   "cell_type": "code",
   "execution_count": null,
   "metadata": {
    "collapsed": false
   },
   "outputs": [],
   "source": [
    "Audio(data=y_perc, rate=sr)"
   ]
  },
  {
   "cell_type": "markdown",
   "metadata": {
    "slideshow": {
     "slide_type": "subslide"
    }
   },
   "source": [
    "NMF is pretty easy also!"
   ]
  },
  {
   "cell_type": "code",
   "execution_count": null,
   "metadata": {
    "collapsed": true
   },
   "outputs": [],
   "source": [
    "# Fit the model\n",
    "W, H = librosa.decompose.decompose(S, n_components=16, sort=True)"
   ]
  },
  {
   "cell_type": "code",
   "execution_count": null,
   "metadata": {
    "collapsed": false
   },
   "outputs": [],
   "source": [
    "plt.figure(figsize=(6, 3))\n",
    "plt.subplot(1, 2, 1), plt.title('W')\n",
    "librosa.display.specshow(librosa.logamplitude(W**2), y_axis='log')\n",
    "plt.subplot(1, 2, 2), plt.title('H')\n",
    "librosa.display.specshow(H, x_axis='time')"
   ]
  },
  {
   "cell_type": "code",
   "execution_count": null,
   "metadata": {
    "collapsed": true,
    "slideshow": {
     "slide_type": "subslide"
    }
   },
   "outputs": [],
   "source": [
    "# Reconstruct the signal using only the first component\n",
    "S_rec = W[:, :1].dot(H[:1, :])\n",
    "\n",
    "y_rec = librosa.istft(S_rec * phase)"
   ]
  },
  {
   "cell_type": "code",
   "execution_count": null,
   "metadata": {
    "collapsed": false,
    "slideshow": {
     "slide_type": "-"
    }
   },
   "outputs": [],
   "source": [
    "Audio(data=y_rec, rate=sr)"
   ]
  },
  {
   "cell_type": "markdown",
   "metadata": {
    "slideshow": {
     "slide_type": "subslide"
    }
   },
   "source": [
    "## Exercise 3\n",
    "\n",
    "- Compute a chromagram using only the harmonic component\n",
    "- **Bonus**: run the beat tracker using only the percussive component"
   ]
  },
  {
   "cell_type": "markdown",
   "metadata": {
    "slideshow": {
     "slide_type": "slide"
    }
   },
   "source": [
    "# Wrapping up\n",
    "\n",
    "- This was just a brief intro, but there's lots more!\n",
    "\n",
    "- Read the docs: http://librosa.github.io/librosa/\n",
    "- And the example gallery: http://librosa.github.io/librosa_gallery/\n",
    "- We'll be sprinting all day.  Get involved! https://github.com/librosa/librosa/issues/395"
   ]
  }
 ],
 "metadata": {
  "celltoolbar": "Raw Cell Format",
  "kernelspec": {
   "display_name": "Python 2",
   "language": "python",
   "name": "python2"
  },
  "language_info": {
   "codemirror_mode": {
    "name": "ipython",
    "version": 2
   },
   "file_extension": ".py",
   "mimetype": "text/x-python",
   "name": "python",
   "nbconvert_exporter": "python",
   "pygments_lexer": "ipython2",
   "version": "2.7.13"
  }
 },
 "nbformat": 4,
 "nbformat_minor": 0
}
