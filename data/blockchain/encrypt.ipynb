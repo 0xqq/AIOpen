{
 "cells": [
  {
   "cell_type": "markdown",
   "metadata": {},
   "source": [
    "# Hash（哈希或散列）算法是信息技术领域非常基础和非常重要的技术。它将任意长度的二进制值（明文）映射为较短的固定长度的二进制制（Hash值），并且不同明文很难映射为相同的Hash值。Hash值在应用中又被称为指纹（fingerprint），摘要（digest）。"
   ]
  },
  {
   "cell_type": "markdown",
   "metadata": {},
   "source": [
    "### 1）MD5（RFC1321）是Rivest于1991年对MD4的改进版本。其输出是128位（32位16进制数字）。MD5是一个经典的hash算法。"
   ]
  },
  {
   "cell_type": "code",
   "execution_count": 3,
   "metadata": {
    "scrolled": true
   },
   "outputs": [],
   "source": [
    "from Crypto.Hash import MD5\n",
    "def md5(data, hex=True):\n",
    "    h = MD5.new()\n",
    "    h.update(data)\n",
    "    if(hex):\n",
    "        return h.hexdigest()\n",
    "    else:\n",
    "        return h.digest()"
   ]
  },
  {
   "cell_type": "code",
   "execution_count": 11,
   "metadata": {},
   "outputs": [
    {
     "data": {
      "text/plain": [
       "'df1fd9101108b40d26977a8d0bb9fd1e'"
      ]
     },
     "execution_count": 11,
     "metadata": {},
     "output_type": "execute_result"
    }
   ],
   "source": [
    "md5('你')"
   ]
  },
  {
   "cell_type": "markdown",
   "metadata": {},
   "source": [
    "# SHA（Secure Hash Algorighm，加密哈希算法）是一个Hash函数族，由NIST（Nationnal Institute of Standards and Technology，美国国家标准技术研究所）于1993年发布第一个算法。目前知名的SHA-1在1995年面世，它的输出长度为160位的hash值。SHA-1与MD4具有相同的原理。\n",
    "# 为提高安全性，NIST还设计了SHA-224、SHA-256、SHA-384和SHA-512算法（统称为SHA-2）\n",
    "# 目前，MD5和SHA-1已经不够安全，推荐至少使用SHA-256算法。"
   ]
  },
  {
   "cell_type": "markdown",
   "metadata": {},
   "source": [
    "### 2）SHA-256，其输出是256位（64位16进制数字）。"
   ]
  },
  {
   "cell_type": "code",
   "execution_count": 5,
   "metadata": {},
   "outputs": [],
   "source": [
    "from Crypto.Hash import SHA256\n",
    "def sha256(data, hex=True):\n",
    "    h = SHA256.new()\n",
    "    h.update(data)\n",
    "    if(hex):\n",
    "        return h.hexdigest()\n",
    "    else:\n",
    "        return h.digest()"
   ]
  },
  {
   "cell_type": "code",
   "execution_count": 6,
   "metadata": {},
   "outputs": [
    {
     "data": {
      "text/plain": [
       "'6b86b273ff34fce19d6b804eff5a3f5747ada4eaa22f1d49c01e52ddb7875b4b'"
      ]
     },
     "execution_count": 6,
     "metadata": {},
     "output_type": "execute_result"
    }
   ],
   "source": [
    "sha256('1')"
   ]
  },
  {
   "cell_type": "markdown",
   "metadata": {},
   "source": [
    "### 3）SHA-512，其输出是512位（128位16进制数字）。"
   ]
  },
  {
   "cell_type": "code",
   "execution_count": 7,
   "metadata": {},
   "outputs": [],
   "source": [
    "from Crypto.Hash import SHA512\n",
    "def sha512(data):\n",
    "    h = SHA512.new()\n",
    "    h.update(data)\n",
    "    return h.hexdigest()"
   ]
  },
  {
   "cell_type": "code",
   "execution_count": 8,
   "metadata": {},
   "outputs": [
    {
     "data": {
      "text/plain": [
       "'4dff4ea340f0a823f15d3f4f01ab62eae0e5da579ccb851f8db9dfe84c58b2b37b89903a740e1ee172da793a6e79d560e5f7f9bd058a12a280433ed6fa46510a'"
      ]
     },
     "execution_count": 8,
     "metadata": {},
     "output_type": "execute_result"
    }
   ],
   "source": [
    "sha512('1')"
   ]
  },
  {
   "cell_type": "markdown",
   "metadata": {},
   "source": [
    "# RIPEMD-160哈希加密算法，RIPEMD 是在 EU 项目 RIPE（RACE Integrity Primitives Evaluation，1988-1992）的框架中开发的。它旨在用于替代 128 位哈希函数 MD4、MD5 和 RIPEMD。RIPEMD-160 是一个 160 位加密哈希函数。"
   ]
  },
  {
   "cell_type": "markdown",
   "metadata": {},
   "source": [
    "### 4）RIPEMD-160 ，其输出是160 位（40位16进制数字）。"
   ]
  },
  {
   "cell_type": "code",
   "execution_count": 9,
   "metadata": {},
   "outputs": [],
   "source": [
    "from Crypto.Hash import RIPEMD\n",
    "def ripemd160(data, hex=True):\n",
    "    h = RIPEMD.new()\n",
    "    h.update(data)\n",
    "    if(hex):\n",
    "        return h.hexdigest()\n",
    "    else:\n",
    "        return h.digest()"
   ]
  },
  {
   "cell_type": "code",
   "execution_count": 10,
   "metadata": {},
   "outputs": [
    {
     "data": {
      "text/plain": [
       "'c47907abd2a80492ca9388b05c0e382518ff3960'"
      ]
     },
     "execution_count": 10,
     "metadata": {},
     "output_type": "execute_result"
    }
   ],
   "source": [
    "ripemd160('1')"
   ]
  },
  {
   "cell_type": "markdown",
   "metadata": {},
   "source": [
    "### 5) digest() 、hexdigest()相互转换的工具\n",
    "\n",
    "#### Hex -> Ascii"
   ]
  },
  {
   "cell_type": "code",
   "execution_count": 16,
   "metadata": {},
   "outputs": [
    {
     "data": {
      "text/plain": [
       "'\\xc4\\xcaB8\\xa0\\xb9#\\x82\\r\\xccP\\x9aou\\x84\\x9b'"
      ]
     },
     "execution_count": 16,
     "metadata": {},
     "output_type": "execute_result"
    }
   ],
   "source": [
    "import binascii \n",
    "binascii.a2b_hex('c4ca4238a0b923820dcc509a6f75849b') # hex"
   ]
  },
  {
   "cell_type": "markdown",
   "metadata": {},
   "source": [
    "#### Ascii -> Hex"
   ]
  },
  {
   "cell_type": "code",
   "execution_count": 17,
   "metadata": {},
   "outputs": [
    {
     "data": {
      "text/plain": [
       "'c4ca4238a0b923820dcc509a6f75849b'"
      ]
     },
     "execution_count": 17,
     "metadata": {},
     "output_type": "execute_result"
    }
   ],
   "source": [
    "binascii.b2a_hex('\\xc4\\xcaB8\\xa0\\xb9#\\x82\\r\\xccP\\x9aou\\x84\\x9b') "
   ]
  },
  {
   "cell_type": "code",
   "execution_count": null,
   "metadata": {},
   "outputs": [],
   "source": []
  }
 ],
 "metadata": {
  "kernelspec": {
   "display_name": "Python 2",
   "language": "python",
   "name": "python2"
  },
  "language_info": {
   "codemirror_mode": {
    "name": "ipython",
    "version": 2
   },
   "file_extension": ".py",
   "mimetype": "text/x-python",
   "name": "python",
   "nbconvert_exporter": "python",
   "pygments_lexer": "ipython2",
   "version": "2.7.14"
  }
 },
 "nbformat": 4,
 "nbformat_minor": 2
}
